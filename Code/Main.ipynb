{
 "cells": [
  {
   "cell_type": "code",
   "id": "initial_id",
   "metadata": {
    "collapsed": true,
    "ExecuteTime": {
     "end_time": "2024-10-20T14:16:54.932130Z",
     "start_time": "2024-10-20T14:16:52.622677Z"
    }
   },
   "source": [
    "import os\n",
    "import cv2\n",
    "import numpy as np\n",
    "import pandas as pd\n",
    "from sklearn.decomposition import PCA\n",
    "from sklearn.preprocessing import StandardScaler\n",
    "from sklearn.metrics.pairwise import euclidean_distances\n",
    "\n",
    "# Đường dẫn tới các thư mục\n",
    "dataset_dir = '../Input/Dataset/'\n",
    "face_compare_dir = '../Input/Face-Compare/'\n",
    "output_file = '../Output/result.xlsx'\n",
    "\n",
    "# Hàm đọc ảnh từ folder\n",
    "def read_images_from_folder(folder_path, label):\n",
    "    images = []\n",
    "    labels = []\n",
    "    for filename in os.listdir(folder_path):\n",
    "        img_path = os.path.join(folder_path, filename)\n",
    "        img = cv2.imread(img_path, cv2.IMREAD_GRAYSCALE)  # Đọc ảnh xám\n",
    "        if img is not None:\n",
    "            img_resized = cv2.resize(img, (100, 100))  # Resize về kích thước chuẩn\n",
    "            images.append(img_resized.flatten())  # Chuyển ảnh thành vector\n",
    "            labels.append(label)  # Gán nhãn là tên folder\n",
    "    return images, labels"
   ],
   "outputs": [],
   "execution_count": 1
  },
  {
   "metadata": {
    "ExecuteTime": {
     "end_time": "2024-10-20T14:16:58.098636Z",
     "start_time": "2024-10-20T14:16:54.963438Z"
    }
   },
   "cell_type": "code",
   "source": [
    "# Bước 1: Đọc và train dữ liệu từ Dataset\n",
    "X_train = []\n",
    "y_train = []\n",
    "\n",
    "for person_folder in os.listdir(dataset_dir):\n",
    "    folder_path = os.path.join(dataset_dir, person_folder)\n",
    "    if os.path.isdir(folder_path):\n",
    "        images, labels = read_images_from_folder(folder_path, person_folder)\n",
    "        X_train.extend(images)\n",
    "        y_train.extend(labels)\n",
    "\n",
    "X_train = np.array(X_train)\n",
    "y_train = np.array(y_train)\n",
    "\n",
    "# Chuẩn hóa dữ liệu\n",
    "scaler = StandardScaler()\n",
    "X_train_scaled = scaler.fit_transform(X_train)"
   ],
   "id": "faee0b83ebdefeb1",
   "outputs": [],
   "execution_count": 2
  },
  {
   "metadata": {
    "ExecuteTime": {
     "end_time": "2024-10-20T14:17:10.006452Z",
     "start_time": "2024-10-20T14:16:58.998439Z"
    }
   },
   "cell_type": "code",
   "source": [
    "# Bước 2: Áp dụng PCA để giảm chiều\n",
    "n_components = 100  # Số lượng eigenfaces\n",
    "pca = PCA(n_components=n_components)\n",
    "X_train_pca = pca.fit_transform(X_train_scaled)"
   ],
   "id": "5a860a81396c9136",
   "outputs": [],
   "execution_count": 3
  },
  {
   "metadata": {
    "ExecuteTime": {
     "end_time": "2024-10-20T14:17:10.048305Z",
     "start_time": "2024-10-20T14:17:10.015729Z"
    }
   },
   "cell_type": "code",
   "source": [
    "# Bước 3: Đọc và xử lý ảnh từ Face-Compare\n",
    "face_compare_images = []\n",
    "face_compare_names = []\n",
    "\n",
    "for filename in os.listdir(face_compare_dir):\n",
    "    img_path = os.path.join(face_compare_dir, filename)\n",
    "    img = cv2.imread(img_path, cv2.IMREAD_GRAYSCALE)\n",
    "    if img is not None:\n",
    "        img_resized = cv2.resize(img, (100, 100))\n",
    "        face_compare_images.append(img_resized.flatten())\n",
    "        face_compare_names.append(filename)\n",
    "\n",
    "face_compare_images = np.array(face_compare_images)\n",
    "face_compare_scaled = scaler.transform(face_compare_images)\n",
    "face_compare_pca = pca.transform(face_compare_scaled)"
   ],
   "id": "d911493d2bfe175c",
   "outputs": [],
   "execution_count": 4
  },
  {
   "metadata": {
    "ExecuteTime": {
     "end_time": "2024-10-20T14:17:10.068430Z",
     "start_time": "2024-10-20T14:17:10.060181Z"
    }
   },
   "cell_type": "code",
   "source": [
    "# Bước 4: So sánh các ảnh từ Face-Compare với các khuôn mặt đã train\n",
    "results = []\n",
    "\n",
    "for i, face_pca in enumerate(face_compare_pca):\n",
    "    distances = euclidean_distances([face_pca], X_train_pca)\n",
    "    min_distance_index = np.argmin(distances)\n",
    "\n",
    "    if distances[0, min_distance_index] < 1000:  # Ngưỡng so sánh, có thể điều chỉnh\n",
    "        matched_person = y_train[min_distance_index]\n",
    "    else:\n",
    "        matched_person = 'null'\n",
    "\n",
    "    results.append([face_compare_names[i], matched_person])"
   ],
   "id": "7c0e581518e63c8a",
   "outputs": [],
   "execution_count": 5
  },
  {
   "metadata": {
    "ExecuteTime": {
     "end_time": "2024-10-20T14:17:10.253002Z",
     "start_time": "2024-10-20T14:17:10.079426Z"
    }
   },
   "cell_type": "code",
   "source": [
    "# Bước 5: Xuất kết quả ra file Excel\n",
    "df_results = pd.DataFrame(results, columns=['Image Name', 'Matched Person'])\n",
    "df_results.to_excel(output_file, index=False)\n",
    "\n",
    "print(f\"Kết quả đã được lưu vào file {output_file}\")"
   ],
   "id": "85c0b33bddfdcc53",
   "outputs": [
    {
     "name": "stdout",
     "output_type": "stream",
     "text": [
      "Kết quả đã được lưu vào file ../Output/result.xlsx\n"
     ]
    }
   ],
   "execution_count": 6
  }
 ],
 "metadata": {
  "kernelspec": {
   "display_name": "Python 3",
   "language": "python",
   "name": "python3"
  },
  "language_info": {
   "codemirror_mode": {
    "name": "ipython",
    "version": 2
   },
   "file_extension": ".py",
   "mimetype": "text/x-python",
   "name": "python",
   "nbconvert_exporter": "python",
   "pygments_lexer": "ipython2",
   "version": "2.7.6"
  }
 },
 "nbformat": 4,
 "nbformat_minor": 5
}
